{
 "cells": [
  {
   "cell_type": "markdown",
   "metadata": {},
   "source": [
    "## Strings"
   ]
  },
  {
   "cell_type": "code",
   "execution_count": 2,
   "metadata": {},
   "outputs": [
    {
     "name": "stdout",
     "output_type": "stream",
     "text": [
      "12\n"
     ]
    }
   ],
   "source": [
    "a= \"Hello world!\"\n",
    "print(len(a))"
   ]
  },
  {
   "cell_type": "code",
   "execution_count": 10,
   "metadata": {},
   "outputs": [
    {
     "name": "stdout",
     "output_type": "stream",
     "text": [
      "b\n",
      "h\n",
      "u\n"
     ]
    }
   ],
   "source": [
    "# Accessing elements using positive indices\n",
    "s = \"bhanu\"\n",
    "print(s[0])\n",
    "print(s[1])\n",
    "print(s[len(s)-1])"
   ]
  },
  {
   "cell_type": "code",
   "execution_count": 8,
   "metadata": {},
   "outputs": [
    {
     "name": "stdout",
     "output_type": "stream",
     "text": [
      "u\n",
      "n\n",
      "b\n"
     ]
    }
   ],
   "source": [
    "# Accessing elements using negative indices\n",
    "print(s[-1])\n",
    "print(s[-2])\n",
    "print(s[-len(s)])"
   ]
  },
  {
   "cell_type": "code",
   "execution_count": 11,
   "metadata": {},
   "outputs": [
    {
     "name": "stdout",
     "output_type": "stream",
     "text": [
      "u\n",
      "n\n"
     ]
    }
   ],
   "source": [
    "# Accessing elements using length function\n",
    "print(s[len(s)-1])\n",
    "print(s[len(s)-2])"
   ]
  },
  {
   "cell_type": "code",
   "execution_count": 12,
   "metadata": {
    "scrolled": true
   },
   "outputs": [
    {
     "name": "stdout",
     "output_type": "stream",
     "text": [
      "0 B\n",
      "1 H\n",
      "2 A\n",
      "3 N\n",
      "4 U\n"
     ]
    }
   ],
   "source": [
    "s = \"BHANU\"\n",
    "for i in range(len(s)): # i represent the index value of the string\n",
    "    print(i,s[i])"
   ]
  },
  {
   "cell_type": "code",
   "execution_count": 15,
   "metadata": {},
   "outputs": [
    {
     "name": "stdout",
     "output_type": "stream",
     "text": [
      "B\n",
      "H\n",
      "A\n",
      "N\n",
      "U\n"
     ]
    }
   ],
   "source": [
    "s=\"BHANU\"\n",
    "for i in s:  # i represent elements in the string\n",
    "    print(i)"
   ]
  },
  {
   "cell_type": "markdown",
   "metadata": {},
   "source": [
    "## String slicing"
   ]
  },
  {
   "cell_type": "code",
   "execution_count": 21,
   "metadata": {},
   "outputs": [
    {
     "name": "stdout",
     "output_type": "stream",
     "text": [
      "SSDC-MSTP\n",
      "AP\n",
      "SSDC-M\n",
      "SSDC-MSTP\n",
      "APSSDC-MSTP\n",
      "APSSDC-\n",
      "APSSDC-\n"
     ]
    }
   ],
   "source": [
    "s= \"APSSDC-MSTP\"\n",
    "# sytax for slicing: string_varaible[start_index: end_index-1]\n",
    "print(s[2:]) # if only start index is given,then it goes upto the end\n",
    "print(s[:2]) # if only end index is given,then it starts from the first letter\n",
    "print(s[2:8]) # as per the syntax\n",
    "print(s[2:20])\n",
    "print(s[:len(s)])\n",
    "print(s[:len(s)-4])\n",
    "print(s[:-4])"
   ]
  },
  {
   "cell_type": "code",
   "execution_count": 29,
   "metadata": {},
   "outputs": [
    {
     "name": "stdout",
     "output_type": "stream",
     "text": [
      "ASD-SP\n",
      "PSCMT\n",
      "PS-DSA\n",
      "PTSM-CDSSPA\n",
      "PS-DSA\n"
     ]
    }
   ],
   "source": [
    "s= \"APSSDC-MSTP\"\n",
    "# sytax for slicing: string_varaible[start_index: end_index-1:increment or decrement]\n",
    "\n",
    "print(s[0:len(s):2]) # even index elements of a string\n",
    "print(s[1:len(s):2]) # odd index elements of a string\n",
    "\n",
    "\n",
    "print(s[len(s): :-2]) # even index elements of a string in reverse order\n",
    "print(s[::-1]) #to reverse the entire string\n",
    "print(s[::-2])"
   ]
  },
  {
   "cell_type": "code",
   "execution_count": null,
   "metadata": {},
   "outputs": [],
   "source": []
  },
  {
   "cell_type": "markdown",
   "metadata": {},
   "source": [
    "### Tasks for the day"
   ]
  },
  {
   "cell_type": "markdown",
   "metadata": {},
   "source": [
    "### Task-1- Find the length of the string"
   ]
  },
  {
   "cell_type": "code",
   "execution_count": 6,
   "metadata": {},
   "outputs": [
    {
     "name": "stdout",
     "output_type": "stream",
     "text": [
      "Enter a string: Problem Solving using Python\n",
      "Length of the given string is  28\n"
     ]
    }
   ],
   "source": [
    "# Method-1\n",
    "s= str(input(\"Enter a string: \"))\n",
    "c=0\n",
    "for i in s:\n",
    "    c += 1\n",
    "print(\"Length of the given string is \",c)"
   ]
  },
  {
   "cell_type": "code",
   "execution_count": 7,
   "metadata": {},
   "outputs": [
    {
     "name": "stdout",
     "output_type": "stream",
     "text": [
      "Enter a string: Problem Solving using Python\n",
      "Length of the given string is 28\n"
     ]
    }
   ],
   "source": [
    "# Method\n",
    "s= str(input(\"Enter a string: \"))\n",
    "print(\"Length of the given string is\",len(s))"
   ]
  },
  {
   "cell_type": "markdown",
   "metadata": {},
   "source": [
    "### Task-2- Change the string into lower case"
   ]
  },
  {
   "cell_type": "code",
   "execution_count": 12,
   "metadata": {},
   "outputs": [
    {
     "name": "stdout",
     "output_type": "stream",
     "text": [
      "Enter a string: Problem Solving using Python\n"
     ]
    },
    {
     "data": {
      "text/plain": [
       "'problem solving using python'"
      ]
     },
     "execution_count": 12,
     "metadata": {},
     "output_type": "execute_result"
    }
   ],
   "source": [
    "s = input(\"Enter a string: \")\n",
    "s = s.lower()\n",
    "s"
   ]
  },
  {
   "cell_type": "markdown",
   "metadata": {},
   "source": [
    "### Task-3- Print the string in reverse order"
   ]
  },
  {
   "cell_type": "code",
   "execution_count": 13,
   "metadata": {},
   "outputs": [
    {
     "name": "stdout",
     "output_type": "stream",
     "text": [
      "Enter a string: Problem Solving using Python\n",
      "nohtyP gnisu gnivloS melborP\n"
     ]
    }
   ],
   "source": [
    "s = input(\"Enter a string: \")\n",
    "print(s[: :-1])"
   ]
  },
  {
   "cell_type": "markdown",
   "metadata": {},
   "source": [
    "### Task-4- Split the string"
   ]
  },
  {
   "cell_type": "code",
   "execution_count": 16,
   "metadata": {},
   "outputs": [
    {
     "name": "stdout",
     "output_type": "stream",
     "text": [
      "Enter a string: Problem Solving using Python\n",
      "['Problem', 'Solving', 'using', 'Python']\n"
     ]
    }
   ],
   "source": [
    "s = input(\"Enter a string: \")\n",
    "s = s.split()\n",
    "print(s)"
   ]
  },
  {
   "cell_type": "markdown",
   "metadata": {},
   "source": [
    "### Task-5- Print the string without space"
   ]
  },
  {
   "cell_type": "code",
   "execution_count": 19,
   "metadata": {},
   "outputs": [
    {
     "name": "stdout",
     "output_type": "stream",
     "text": [
      "Enter a string: Problem Solving using Python\n"
     ]
    },
    {
     "data": {
      "text/plain": [
       "'ProblemSolvingusingPython'"
      ]
     },
     "execution_count": 19,
     "metadata": {},
     "output_type": "execute_result"
    }
   ],
   "source": [
    "s = input(\"Enter a string: \")\n",
    "s = s.replace(\" \",\"\")\n",
    "s"
   ]
  },
  {
   "cell_type": "markdown",
   "metadata": {},
   "source": [
    "### Task-6- How many times \"s\" is repeated in a given string"
   ]
  },
  {
   "cell_type": "code",
   "execution_count": 24,
   "metadata": {},
   "outputs": [
    {
     "name": "stdout",
     "output_type": "stream",
     "text": [
      "Enter a string: Problem Solving using Python\n",
      "The no. of times s is repeated is  2\n"
     ]
    }
   ],
   "source": [
    "s = input(\"Enter a string: \")\n",
    "c=0\n",
    "for i in s:\n",
    "    if (i == \"s\" or i == \"S\"):\n",
    "        c +=1\n",
    "print(\"The no. of times s is repeated is \",c)"
   ]
  },
  {
   "cell_type": "code",
   "execution_count": null,
   "metadata": {},
   "outputs": [],
   "source": [
    "# Another method\n",
    "s = input(\"Enter a string: \")\n",
    "c=s.count(\"s\")\n",
    "c"
   ]
  },
  {
   "cell_type": "markdown",
   "metadata": {},
   "source": [
    "### Task-7- Find how many times \"python\" is repeated"
   ]
  },
  {
   "cell_type": "code",
   "execution_count": 28,
   "metadata": {},
   "outputs": [
    {
     "name": "stdout",
     "output_type": "stream",
     "text": [
      "Enter a string: python programming by python platform\n",
      "The no. of times python is repeated:  2\n"
     ]
    }
   ],
   "source": [
    "s = input(\"Enter a string: \")\n",
    "c=0\n",
    "s= s.split()\n",
    "for i in s:\n",
    "    if i == \"python\":\n",
    "        c +=1\n",
    "print(\"The no. of times python is repeated: \",c)"
   ]
  },
  {
   "cell_type": "code",
   "execution_count": 32,
   "metadata": {},
   "outputs": [
    {
     "name": "stdout",
     "output_type": "stream",
     "text": [
      "Enter a string: asdfbhasdfcvkajsnksdfcvbn\n"
     ]
    },
    {
     "data": {
      "text/plain": [
       "2"
      ]
     },
     "execution_count": 32,
     "metadata": {},
     "output_type": "execute_result"
    }
   ],
   "source": []
  },
  {
   "cell_type": "markdown",
   "metadata": {},
   "source": [
    "### Task-8- count each element in the given string"
   ]
  },
  {
   "cell_type": "code",
   "execution_count": 15,
   "metadata": {},
   "outputs": [
    {
     "name": "stdout",
     "output_type": "stream",
     "text": [
      "p-2\n",
      "y-1\n",
      "t-1\n",
      "h-1\n",
      "o-2\n",
      "n-2\n",
      "r-2\n",
      "g-2\n",
      "a-1\n",
      "m-2\n",
      "i-1\n"
     ]
    }
   ],
   "source": [
    "# Method-1\n",
    "s = \"pythonprogramming\"\n",
    "for i in range(len(s)):\n",
    "    c = 0\n",
    "    for j in range(len(s)):\n",
    "        if s[i] == s[j]:\n",
    "            c += 1\n",
    "    match = True\n",
    "    k = i-1\n",
    "    while(k>=0):\n",
    "        if (s[i]==s[k]):\n",
    "            match = False\n",
    "        k= k-1\n",
    "        \n",
    "    if (match==True):\n",
    "        print(s[i]+\"-\"+str(c))"
   ]
  },
  {
   "cell_type": "code",
   "execution_count": 8,
   "metadata": {},
   "outputs": [
    {
     "name": "stdout",
     "output_type": "stream",
     "text": [
      "p - 2\n",
      "y - 1\n",
      "t - 1\n",
      "h - 1\n",
      "o - 2\n",
      "n - 2\n",
      "r - 2\n",
      "g - 2\n",
      "a - 1\n",
      "m - 2\n",
      "i - 1\n"
     ]
    }
   ],
   "source": [
    "# Method-2\n",
    "s = \"pythonprogramming\"\n",
    "r =\"\"\n",
    "for i in s:\n",
    "    if i not in r:\n",
    "        r = r+i\n",
    "for i in r:\n",
    "    c = 0\n",
    "    for j in s:\n",
    "        if i == j:\n",
    "            c += 1\n",
    "    print(i,\"-\",c)    "
   ]
  },
  {
   "cell_type": "code",
   "execution_count": null,
   "metadata": {},
   "outputs": [],
   "source": []
  }
 ],
 "metadata": {
  "kernelspec": {
   "display_name": "Python 3",
   "language": "python",
   "name": "python3"
  },
  "language_info": {
   "codemirror_mode": {
    "name": "ipython",
    "version": 3
   },
   "file_extension": ".py",
   "mimetype": "text/x-python",
   "name": "python",
   "nbconvert_exporter": "python",
   "pygments_lexer": "ipython3",
   "version": "3.7.3"
  }
 },
 "nbformat": 4,
 "nbformat_minor": 2
}
