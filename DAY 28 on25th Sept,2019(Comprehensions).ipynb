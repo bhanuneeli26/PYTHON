{
 "cells": [
  {
   "cell_type": "markdown",
   "metadata": {},
   "source": [
    "# COPREHENSIONS\n",
    "\n",
    "- Lists\n",
    "- Dictionaries\n",
    "- Tuples"
   ]
  },
  {
   "cell_type": "markdown",
   "metadata": {},
   "source": [
    "## List comprehesions\n",
    "\n",
    "syntax:\n",
    "- [expression for item in iterable if condition]\n",
    "- [expression1 if condition else expression2 for item in iterable]"
   ]
  },
  {
   "cell_type": "code",
   "execution_count": 1,
   "metadata": {},
   "outputs": [
    {
     "data": {
      "text/plain": [
       "[1, 4, 9, 16]"
      ]
     },
     "execution_count": 1,
     "metadata": {},
     "output_type": "execute_result"
    }
   ],
   "source": [
    "# Squaring a number\n",
    "n = [1,2,3,4]\n",
    "sq =[]\n",
    "for i in n:\n",
    "    sq.append(i**2)\n",
    "sq\n",
    "# In the above program we can observe more lines are used to execute the program. \n",
    "# The same program is executed in a smarter way in the below cell"
   ]
  },
  {
   "cell_type": "code",
   "execution_count": 2,
   "metadata": {},
   "outputs": [
    {
     "data": {
      "text/plain": [
       "[1, 4, 9, 16]"
      ]
     },
     "execution_count": 2,
     "metadata": {},
     "output_type": "execute_result"
    }
   ],
   "source": [
    "# Using LIST comprehension\n",
    "result = [i**2 for i in range(1,5)]\n",
    "result"
   ]
  },
  {
   "cell_type": "code",
   "execution_count": 6,
   "metadata": {},
   "outputs": [
    {
     "data": {
      "text/plain": [
       "['Odd', 'Even', 'Odd', 'Even', 'Odd', 'Even', 'Odd', 'Even', 'Odd', 'Even']"
      ]
     },
     "execution_count": 6,
     "metadata": {},
     "output_type": "execute_result"
    }
   ],
   "source": [
    "# Fuction to determine a number is odd or even\n",
    "def evenodd(num):\n",
    "    if num % 2 == 0:\n",
    "        check.append(\"Even\")\n",
    "    else:\n",
    "        check.append(\"Odd\")\n",
    "check =[]        \n",
    "number = [1,2,3,4,5,6,7,8,9,10]\n",
    "for i in number:\n",
    "    evenodd(i)\n",
    "check\n",
    "# In the above program we can observe more lines are used to execute the program. \n",
    "# The same program is executed in a smarter way in the below cell"
   ]
  },
  {
   "cell_type": "code",
   "execution_count": 8,
   "metadata": {},
   "outputs": [
    {
     "data": {
      "text/plain": [
       "['Odd', 'Even', 'Odd', 'Even', 'Odd', 'Even', 'Odd', 'Even', 'Odd', 'Even']"
      ]
     },
     "execution_count": 8,
     "metadata": {},
     "output_type": "execute_result"
    }
   ],
   "source": [
    "# Using LIST comprehension\n",
    "number = [1,2,3,4,5,6,7,8,9,10]\n",
    "result = [\"Even\" if i %2 == 0 else \"Odd\" for i in number]\n",
    "result"
   ]
  },
  {
   "cell_type": "code",
   "execution_count": 21,
   "metadata": {},
   "outputs": [
    {
     "data": {
      "text/plain": [
       "['A', 'P', 'S', 'S', 'D', 'C']"
      ]
     },
     "execution_count": 21,
     "metadata": {},
     "output_type": "execute_result"
    }
   ],
   "source": [
    "s = \"APSSDC\"\n",
    "res = [letter for letter in s]\n",
    "res"
   ]
  },
  {
   "cell_type": "code",
   "execution_count": 13,
   "metadata": {},
   "outputs": [
    {
     "data": {
      "text/plain": [
       "['a', 'p', 's', 's', 'd', 'c']"
      ]
     },
     "execution_count": 13,
     "metadata": {},
     "output_type": "execute_result"
    }
   ],
   "source": [
    "# Print all letters in the given word in lowercase\n",
    "s = \"APSSDC\"\n",
    "res = [letter.lower() for letter in s]\n",
    "res\n",
    "# remember some string fuctions like isupper(), islower(), isdigit(), isalpha() and upper(),lower(),swapcase()"
   ]
  },
  {
   "cell_type": "code",
   "execution_count": 15,
   "metadata": {},
   "outputs": [
    {
     "data": {
      "text/plain": [
       "['ODD', 'EVEN', 'ODD', 'EVEN', 'ODD', 'EVEN', 'ODD', 'EVEN', 'ODD']"
      ]
     },
     "execution_count": 15,
     "metadata": {},
     "output_type": "execute_result"
    }
   ],
   "source": [
    "# Print even or odd by checking them in the range of 1 to 10\n",
    "res = ['EVEN' if i % 2 == 0 else 'ODD' for i in range(1,10)]\n",
    "res"
   ]
  },
  {
   "cell_type": "code",
   "execution_count": 16,
   "metadata": {},
   "outputs": [
    {
     "data": {
      "text/plain": [
       "[1, 4, 27, 16, 125, 36, 343, 64, 729]"
      ]
     },
     "execution_count": 16,
     "metadata": {},
     "output_type": "execute_result"
    }
   ],
   "source": [
    "res = [i**2 if i%2 == 0 else i**3 for i in range(1,10)]\n",
    "res"
   ]
  },
  {
   "cell_type": "code",
   "execution_count": 26,
   "metadata": {},
   "outputs": [
    {
     "name": "stdout",
     "output_type": "stream",
     "text": [
      "There is a mountain\n",
      "Climb it or dont climb it\n",
      "decide yourself\n"
     ]
    }
   ],
   "source": [
    "# to print all the sentences in the given paragraph\n",
    "para = ['There is a mountain', 'Climb it or dont climb it', 'decide yourself']\n",
    "for sentence in para:\n",
    "    print(sentence)"
   ]
  },
  {
   "cell_type": "code",
   "execution_count": 27,
   "metadata": {},
   "outputs": [
    {
     "name": "stdout",
     "output_type": "stream",
     "text": [
      "There\n",
      "is\n",
      "a\n",
      "mountain\n",
      "Climb\n",
      "it\n",
      "or\n",
      "dont\n",
      "climb\n",
      "it\n",
      "decide\n",
      "yourself\n"
     ]
    }
   ],
   "source": [
    "# to print all the words in the given paragraph\n",
    "para = ['There is a mountain', 'Climb it or dont climb it', 'decide yourself']\n",
    "for sentence in para:\n",
    "    for word in sentence.split():\n",
    "        print(word)"
   ]
  },
  {
   "cell_type": "code",
   "execution_count": 28,
   "metadata": {},
   "outputs": [
    {
     "name": "stdout",
     "output_type": "stream",
     "text": [
      "T\n",
      "h\n",
      "e\n",
      "r\n",
      "e\n",
      " \n",
      "i\n",
      "s\n",
      " \n",
      "a\n",
      " \n",
      "m\n",
      "o\n",
      "u\n",
      "n\n",
      "t\n",
      "a\n",
      "i\n",
      "n\n",
      "C\n",
      "l\n",
      "i\n",
      "m\n",
      "b\n",
      " \n",
      "i\n",
      "t\n",
      " \n",
      "o\n",
      "r\n",
      " \n",
      "d\n",
      "o\n",
      "n\n",
      "t\n",
      " \n",
      "c\n",
      "l\n",
      "i\n",
      "m\n",
      "b\n",
      " \n",
      "i\n",
      "t\n",
      "d\n",
      "e\n",
      "c\n",
      "i\n",
      "d\n",
      "e\n",
      " \n",
      "y\n",
      "o\n",
      "u\n",
      "r\n",
      "s\n",
      "e\n",
      "l\n",
      "f\n"
     ]
    }
   ],
   "source": [
    "# to print all the letters in the given paragraph\n",
    "para = ['There is a mountain', 'Climb it or dont climb it', 'decide yourself']\n",
    "for sentence in para:\n",
    "    for letter in sentence:\n",
    "        print(letter)"
   ]
  },
  {
   "cell_type": "code",
   "execution_count": 29,
   "metadata": {},
   "outputs": [
    {
     "name": "stdout",
     "output_type": "stream",
     "text": [
      "T\n",
      "h\n",
      "e\n",
      "r\n",
      "e\n",
      "i\n",
      "s\n",
      "a\n",
      "m\n",
      "o\n",
      "u\n",
      "n\n",
      "t\n",
      "a\n",
      "i\n",
      "n\n",
      "C\n",
      "l\n",
      "i\n",
      "m\n",
      "b\n",
      "i\n",
      "t\n",
      "o\n",
      "r\n",
      "d\n",
      "o\n",
      "n\n",
      "t\n",
      "c\n",
      "l\n",
      "i\n",
      "m\n",
      "b\n",
      "i\n",
      "t\n",
      "d\n",
      "e\n",
      "c\n",
      "i\n",
      "d\n",
      "e\n",
      "y\n",
      "o\n",
      "u\n",
      "r\n",
      "s\n",
      "e\n",
      "l\n",
      "f\n"
     ]
    }
   ],
   "source": [
    "# Another method\n",
    "para = ['There is a mountain', 'Climb it or dont climb it', 'decide yourself']\n",
    "for sentence in para:\n",
    "    for word in sentence.split():\n",
    "        for letter in word:\n",
    "            print(letter)"
   ]
  },
  {
   "cell_type": "code",
   "execution_count": 35,
   "metadata": {},
   "outputs": [
    {
     "name": "stdout",
     "output_type": "stream",
     "text": [
      "['There', 'is', 'a', 'mountain', 'Climb', 'it', 'or', 'dont', 'climb', 'it', 'decide', 'yourself']\n"
     ]
    }
   ],
   "source": [
    "# To print all the words in the given paragraph\n",
    "para = ['There is a mountain', 'Climb it or dont climb it', 'decide yourself']\n",
    "wordslist =[]\n",
    "for sentence in para:\n",
    "    for word in sentence.split():\n",
    "        wordslist.append(word)\n",
    "print(wordslist)"
   ]
  },
  {
   "cell_type": "code",
   "execution_count": 31,
   "metadata": {},
   "outputs": [
    {
     "name": "stdout",
     "output_type": "stream",
     "text": [
      "['There', 'is', 'a', 'mountain', 'Climb', 'it', 'or', 'dont', 'climb', 'it', 'decide', 'yourself']\n"
     ]
    }
   ],
   "source": [
    "# Using list comprehension\n",
    "para = ['There is a mountain', 'Climb it or dont climb it', 'decide yourself']\n",
    "res = [word for sentence in para for word in sentence.split()]\n",
    "print(res)"
   ]
  },
  {
   "cell_type": "code",
   "execution_count": 38,
   "metadata": {},
   "outputs": [
    {
     "name": "stdout",
     "output_type": "stream",
     "text": [
      "[1, 8, 64, 216, 42875, 12167, 343]\n"
     ]
    }
   ],
   "source": [
    "# To call a function\n",
    "def cube(n):\n",
    "    return n**3\n",
    "li = [1,2,4,6,35,23,7]\n",
    "n = [cube(i) for i in li]\n",
    "print(n)"
   ]
  },
  {
   "cell_type": "code",
   "execution_count": 42,
   "metadata": {},
   "outputs": [
    {
     "name": "stdout",
     "output_type": "stream",
     "text": [
      "35\n"
     ]
    }
   ],
   "source": [
    "# read the numberds in the given input and return sum of them\n",
    "s = '183ndsl32783mslfj'\n",
    "sum1 = sum([int(i) for i in s if i.isdigit()])\n",
    "print(sum1)"
   ]
  },
  {
   "cell_type": "code",
   "execution_count": 52,
   "metadata": {},
   "outputs": [
    {
     "data": {
      "text/plain": [
       "['mohan', 'mahesh']"
      ]
     },
     "execution_count": 52,
     "metadata": {},
     "output_type": "execute_result"
    }
   ],
   "source": [
    "# to print all the names starts with letter \"m\"\n",
    "names = ['bhanu prasanna kumar neeli','mohan','rajesh','sumana','uma','mahesh']\n",
    "[i for i in names if i.startswith('m')]"
   ]
  },
  {
   "cell_type": "code",
   "execution_count": 50,
   "metadata": {},
   "outputs": [
    {
     "data": {
      "text/plain": [
       "['rajesh', 'mahesh']"
      ]
     },
     "execution_count": 50,
     "metadata": {},
     "output_type": "execute_result"
    }
   ],
   "source": [
    "# to print all the names ends with letter \"m\"\n",
    "[i for i in names if i.endswith('h')]"
   ]
  },
  {
   "cell_type": "code",
   "execution_count": 51,
   "metadata": {},
   "outputs": [
    {
     "data": {
      "text/plain": [
       "['Bhanu', 'Mohan', 'Rajesh', 'Sumana', 'Uma', 'Mahesh']"
      ]
     },
     "execution_count": 51,
     "metadata": {},
     "output_type": "execute_result"
    }
   ],
   "source": [
    "# to print all the names in capitalise format\n",
    "[i.capitalize() for i in names]"
   ]
  },
  {
   "cell_type": "code",
   "execution_count": 53,
   "metadata": {},
   "outputs": [
    {
     "data": {
      "text/plain": [
       "['Bhanu Prasanna Kumar Neeli', 'Mohan', 'Rajesh', 'Sumana', 'Uma', 'Mahesh']"
      ]
     },
     "execution_count": 53,
     "metadata": {},
     "output_type": "execute_result"
    }
   ],
   "source": [
    "# to print all the names in title format\n",
    "[i.title() for i in names]"
   ]
  },
  {
   "cell_type": "code",
   "execution_count": 55,
   "metadata": {},
   "outputs": [
    {
     "data": {
      "text/plain": [
       "['mohan']"
      ]
     },
     "execution_count": 55,
     "metadata": {},
     "output_type": "execute_result"
    }
   ],
   "source": [
    "# to print all the names whose size is 5\n",
    "[i for i in names if len(i)==5]"
   ]
  },
  {
   "cell_type": "code",
   "execution_count": 61,
   "metadata": {},
   "outputs": [
    {
     "data": {
      "text/plain": [
       "['India', 'is']"
      ]
     },
     "execution_count": 61,
     "metadata": {},
     "output_type": "execute_result"
    }
   ],
   "source": [
    "# to print all the words starting with \"i\" or \"I\" in a string in list format\n",
    "sentence = \"India is my country\"\n",
    "[i for i in sentence.split() if (i.startswith('i') or i.startswith('I'))]"
   ]
  },
  {
   "cell_type": "code",
   "execution_count": 66,
   "metadata": {},
   "outputs": [
    {
     "data": {
      "text/plain": [
       "'India is'"
      ]
     },
     "execution_count": 66,
     "metadata": {},
     "output_type": "execute_result"
    }
   ],
   "source": [
    "# to print all the words starting with \"i\" or \"I\" in a string in string format\n",
    "sentence = \"India is my country\"\n",
    "\" \".join([i for i in sentence.split() if (i.startswith('i') or i.startswith('I'))])"
   ]
  },
  {
   "cell_type": "code",
   "execution_count": null,
   "metadata": {},
   "outputs": [],
   "source": []
  },
  {
   "cell_type": "markdown",
   "metadata": {},
   "source": [
    "## Dictionary comprehension"
   ]
  },
  {
   "cell_type": "code",
   "execution_count": 67,
   "metadata": {},
   "outputs": [],
   "source": [
    "d = {'key1':'value1','key2':'value2','key3':'value3'}"
   ]
  },
  {
   "cell_type": "code",
   "execution_count": 68,
   "metadata": {},
   "outputs": [
    {
     "name": "stdout",
     "output_type": "stream",
     "text": [
      "value2\n"
     ]
    }
   ],
   "source": [
    "print(d['key2'])"
   ]
  },
  {
   "cell_type": "code",
   "execution_count": 74,
   "metadata": {},
   "outputs": [
    {
     "name": "stdout",
     "output_type": "stream",
     "text": [
      "{1: 1, 2: 4, 3: 9, 4: 16, 5: 25}\n"
     ]
    }
   ],
   "source": [
    "# square of number\n",
    "res = {i:i**2 for i in range(1,6)}\n",
    "print(res)"
   ]
  },
  {
   "cell_type": "code",
   "execution_count": 75,
   "metadata": {},
   "outputs": [
    {
     "name": "stdout",
     "output_type": "stream",
     "text": [
      "{2: 4, 4: 16}\n"
     ]
    }
   ],
   "source": [
    "# print sqare of even numbers in the given range\n",
    "res = {i:i**2 for i in range(1,6) if i%2 ==0}\n",
    "print(res)"
   ]
  },
  {
   "cell_type": "code",
   "execution_count": 77,
   "metadata": {},
   "outputs": [
    {
     "name": "stdout",
     "output_type": "stream",
     "text": [
      "{1: 'one', 2: 'two', 3: 'three', 4: 'four', 5: 'five', 6: 'six'}\n"
     ]
    }
   ],
   "source": [
    "# to print a dictionary by reading keys in one list and values in another list\n",
    "number = [1,2,3,4,5,6]\n",
    "text = ['one','two','three','four','five','six']\n",
    "res = {k:v for k,v in zip(number,text)}\n",
    "print(res)"
   ]
  },
  {
   "cell_type": "code",
   "execution_count": 80,
   "metadata": {},
   "outputs": [
    {
     "data": {
      "text/plain": [
       "{'A': 'Apple', 'B': 'Ball', 'C': 'Cat', 'D': 'Doll', 'E': 'Elephant'}"
      ]
     },
     "execution_count": 80,
     "metadata": {},
     "output_type": "execute_result"
    }
   ],
   "source": [
    "# Task\n",
    "# to print words corresponding to alphabets A-E\n",
    "order = ['apple','ball','cat','doll','elephant']\n",
    "{i[0].upper():i.capitalize() for i in order}"
   ]
  },
  {
   "cell_type": "code",
   "execution_count": null,
   "metadata": {},
   "outputs": [],
   "source": []
  },
  {
   "cell_type": "markdown",
   "metadata": {},
   "source": [
    "## Tuple Comprehension"
   ]
  },
  {
   "cell_type": "code",
   "execution_count": 83,
   "metadata": {},
   "outputs": [
    {
     "data": {
      "text/plain": [
       "(1, 4, 9, 16, 25, 36, 49, 64, 81)"
      ]
     },
     "execution_count": 83,
     "metadata": {},
     "output_type": "execute_result"
    }
   ],
   "source": [
    "res = tuple(i**2 for i in range(1,10)) #same as list comprehension and dictionary comjpresion but we have to mention tuple\n",
    "res"
   ]
  },
  {
   "cell_type": "code",
   "execution_count": 84,
   "metadata": {},
   "outputs": [
    {
     "data": {
      "text/plain": [
       "(1, 9, 25, 49, 81)"
      ]
     },
     "execution_count": 84,
     "metadata": {},
     "output_type": "execute_result"
    }
   ],
   "source": [
    "# slicing\n",
    "tuple(i**2 for i in range(1,10))[::2]"
   ]
  },
  {
   "cell_type": "code",
   "execution_count": null,
   "metadata": {},
   "outputs": [],
   "source": []
  }
 ],
 "metadata": {
  "kernelspec": {
   "display_name": "Python 3",
   "language": "python",
   "name": "python3"
  },
  "language_info": {
   "codemirror_mode": {
    "name": "ipython",
    "version": 3
   },
   "file_extension": ".py",
   "mimetype": "text/x-python",
   "name": "python",
   "nbconvert_exporter": "python",
   "pygments_lexer": "ipython3",
   "version": "3.7.3"
  }
 },
 "nbformat": 4,
 "nbformat_minor": 2
}
