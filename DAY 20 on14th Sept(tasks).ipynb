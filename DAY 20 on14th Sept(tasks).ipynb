{
 "cells": [
  {
   "cell_type": "markdown",
   "metadata": {},
   "source": [
    "### Write  a program to print whether the given year is leap year or not"
   ]
  },
  {
   "cell_type": "code",
   "execution_count": 9,
   "metadata": {},
   "outputs": [
    {
     "name": "stdout",
     "output_type": "stream",
     "text": [
      "Enter the year 2004\n",
      "leap year\n"
     ]
    }
   ],
   "source": [
    "year = int(input(\"Enter the year \"))\n",
    "if (year % 400==0) or (year%4 == 0 and year % 100 != 0):\n",
    "    print(\"leap year\")\n",
    "else:\n",
    "    print(\"not a leap year\")"
   ]
  },
  {
   "cell_type": "code",
   "execution_count": 11,
   "metadata": {},
   "outputs": [],
   "source": [
    "#sasi"
   ]
  },
  {
   "cell_type": "markdown",
   "metadata": {},
   "source": [
    "### Write a program to check the number of digits"
   ]
  },
  {
   "cell_type": "code",
   "execution_count": 16,
   "metadata": {},
   "outputs": [
    {
     "name": "stdout",
     "output_type": "stream",
     "text": [
      "Enter a number: 25\n",
      "number of digits in the given number are: 2\n"
     ]
    }
   ],
   "source": [
    "num = int(input(\"Enter a number: \"))\n",
    "c=0\n",
    "while (num > 0):\n",
    "    num = num //10\n",
    "    c=c+1\n",
    "print(\"number of digits in the given number are: \"+ str(c))"
   ]
  },
  {
   "cell_type": "code",
   "execution_count": null,
   "metadata": {},
   "outputs": [],
   "source": []
  },
  {
   "cell_type": "markdown",
   "metadata": {},
   "source": [
    "### Write a program to  check whether the given number is a factor of 1000"
   ]
  },
  {
   "cell_type": "code",
   "execution_count": 7,
   "metadata": {},
   "outputs": [
    {
     "name": "stdout",
     "output_type": "stream",
     "text": [
      "Enter a number: 25\n",
      "25 is a factor of 1000\n"
     ]
    }
   ],
   "source": [
    "num = int(input(\"Enter a number: \"))\n",
    "if (1000% num == 0):\n",
    "    print(str(num)+\" is a factor of 1000\")"
   ]
  },
  {
   "cell_type": "code",
   "execution_count": null,
   "metadata": {},
   "outputs": [],
   "source": []
  },
  {
   "cell_type": "markdown",
   "metadata": {},
   "source": [
    "### Write a program to calculate the square root of a given number"
   ]
  },
  {
   "cell_type": "code",
   "execution_count": 10,
   "metadata": {},
   "outputs": [
    {
     "name": "stdout",
     "output_type": "stream",
     "text": [
      "Enter a number: 100\n",
      "Square root of the given number is: 10.0\n"
     ]
    }
   ],
   "source": [
    "n = int(input(\"Enter a number: \"))\n",
    "sqr = n**(0.5)\n",
    "print(\"Square root of the given number is: \"+ str(sqr))"
   ]
  },
  {
   "cell_type": "code",
   "execution_count": null,
   "metadata": {},
   "outputs": [],
   "source": []
  },
  {
   "cell_type": "markdown",
   "metadata": {},
   "source": [
    "### Write a program to check a number is in the given range( * )"
   ]
  },
  {
   "cell_type": "markdown",
   "metadata": {},
   "source": [
    "### *Method-1*"
   ]
  },
  {
   "cell_type": "code",
   "execution_count": 10,
   "metadata": {},
   "outputs": [
    {
     "name": "stdout",
     "output_type": "stream",
     "text": [
      "Enter the range: \n",
      "Enter start of the range: 1000\n",
      "Enter end of the range: 1\n",
      "Enter a number: 250\n",
      "Error: Enter the valid range\n"
     ]
    }
   ],
   "source": [
    "print(\"Enter the range: \")\n",
    "a = int(input(\"Enter start of the range: \"))\n",
    "b = int(input(\"Enter end of the range: \"))\n",
    "n = int(input(\"Enter a number: \"))\n",
    "if (a<b):\n",
    "    if (a<=n<=b):\n",
    "        print(\"Given number is in the given range\") \n",
    "    else:\n",
    "        print(\"Given number is not in the given range\")\n",
    "else:\n",
    "    print(\"Error: Enter the valid range\")"
   ]
  },
  {
   "cell_type": "markdown",
   "metadata": {},
   "source": [
    "### *Method-2*"
   ]
  },
  {
   "cell_type": "code",
   "execution_count": 11,
   "metadata": {},
   "outputs": [
    {
     "name": "stdout",
     "output_type": "stream",
     "text": [
      "Enter the range: \n",
      "Enter start of the range: 1\n",
      "Enter end of the range: 10\n",
      "Enter a number: 5\n",
      "5  is in the given range\n"
     ]
    }
   ],
   "source": [
    "print(\"Enter the range: \")\n",
    "a = int(input(\"Enter start of the range: \"))\n",
    "b = int(input(\"Enter end of the range: \"))\n",
    "n = int(input(\"Enter a number: \"))\n",
    "for i in range(a,b+1):\n",
    "    if i == n:\n",
    "        print(n,\" is in the given range\")"
   ]
  },
  {
   "cell_type": "markdown",
   "metadata": {},
   "source": [
    "### *Method-3*"
   ]
  },
  {
   "cell_type": "code",
   "execution_count": 12,
   "metadata": {},
   "outputs": [
    {
     "name": "stdout",
     "output_type": "stream",
     "text": [
      "Enter the range: \n",
      "Enter start of the range: 1\n",
      "Enter end of the range: 10\n",
      "Enter a number: 5\n",
      "5  is in the given range\n"
     ]
    }
   ],
   "source": [
    "print(\"Enter the range: \")\n",
    "a = int(input(\"Enter start of the range: \"))\n",
    "b = int(input(\"Enter end of the range: \"))\n",
    "n = int(input(\"Enter a number: \"))\n",
    "c=0\n",
    "for i in range(a,b+1):\n",
    "    if i == n:\n",
    "        c=c+1\n",
    "if c==1:\n",
    "    print(n, \" is in the given range\")\n",
    "else:\n",
    "    print(n,\" is not in the given range\")"
   ]
  },
  {
   "cell_type": "markdown",
   "metadata": {},
   "source": [
    "### *Method-4*"
   ]
  },
  {
   "cell_type": "code",
   "execution_count": 13,
   "metadata": {},
   "outputs": [
    {
     "name": "stdout",
     "output_type": "stream",
     "text": [
      "Enter the range: \n",
      "Enter start of the range: 1\n",
      "Enter end of the range: 10\n",
      "Enter a number: 5\n",
      "5  is in the givn range\n"
     ]
    }
   ],
   "source": [
    "print(\"Enter the range: \")\n",
    "a = int(input(\"Enter start of the range: \"))\n",
    "b = int(input(\"Enter end of the range: \"))\n",
    "n = int(input(\"Enter a number: \"))\n",
    "if n in range(a,b+1):\n",
    "    print(n,\" is in the givn range\")\n",
    "else:\n",
    "    print(n,\" is not in the given range\")\n"
   ]
  },
  {
   "cell_type": "code",
   "execution_count": null,
   "metadata": {},
   "outputs": [],
   "source": []
  },
  {
   "cell_type": "markdown",
   "metadata": {},
   "source": []
  }
 ],
 "metadata": {
  "kernelspec": {
   "display_name": "Python 3",
   "language": "python",
   "name": "python3"
  },
  "language_info": {
   "codemirror_mode": {
    "name": "ipython",
    "version": 3
   },
   "file_extension": ".py",
   "mimetype": "text/x-python",
   "name": "python",
   "nbconvert_exporter": "python",
   "pygments_lexer": "ipython3",
   "version": "3.7.3"
  }
 },
 "nbformat": 4,
 "nbformat_minor": 2
}
