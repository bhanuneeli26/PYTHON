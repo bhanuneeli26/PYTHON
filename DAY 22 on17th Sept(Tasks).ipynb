{
 "cells": [
  {
   "cell_type": "markdown",
   "metadata": {},
   "source": [
    "### Print alternate numbers from 1 to 10 using for loop"
   ]
  },
  {
   "cell_type": "code",
   "execution_count": 10,
   "metadata": {},
   "outputs": [
    {
     "name": "stdout",
     "output_type": "stream",
     "text": [
      "1 3 5 7 9 "
     ]
    }
   ],
   "source": [
    "for i in range(1,10+1,2):\n",
    "    print(i,end=\" \")"
   ]
  },
  {
   "cell_type": "markdown",
   "metadata": {},
   "source": [
    "### Iterate the integers from 1 to 50, for multiples of 3 print “Fizz” and for multiples of 5 print “Buzz” and for multiples of both 3 and 5 print “FizzBuzz”."
   ]
  },
  {
   "cell_type": "code",
   "execution_count": 14,
   "metadata": {},
   "outputs": [
    {
     "name": "stdout",
     "output_type": "stream",
     "text": [
      "3  - Fizz\n",
      "5 - Buzz\n",
      "6  - Fizz\n",
      "9  - Fizz\n",
      "10 - Buzz\n",
      "12  - Fizz\n",
      "15  - FizzBuzz\n",
      "18  - Fizz\n",
      "20 - Buzz\n",
      "21  - Fizz\n",
      "24  - Fizz\n",
      "25 - Buzz\n",
      "27  - Fizz\n",
      "30  - FizzBuzz\n",
      "33  - Fizz\n",
      "35 - Buzz\n",
      "36  - Fizz\n",
      "39  - Fizz\n",
      "40 - Buzz\n",
      "42  - Fizz\n",
      "45  - FizzBuzz\n",
      "48  - Fizz\n",
      "50 - Buzz\n"
     ]
    }
   ],
   "source": [
    "for i in range(1,50+1):\n",
    "    if i%3==0:\n",
    "        if i%5==0:\n",
    "            print(i,\" - FizzBuzz\")\n",
    "        else:\n",
    "            print(i,\" - Fizz\")\n",
    "    elif i%5==0:\n",
    "        print(i,\"- Buzz\")"
   ]
  },
  {
   "cell_type": "markdown",
   "metadata": {},
   "source": [
    "### Program to print the multiplication table from range between 10 to 20  .(Ex: 3 x 10 = 30….)"
   ]
  },
  {
   "cell_type": "code",
   "execution_count": 19,
   "metadata": {},
   "outputs": [
    {
     "name": "stdout",
     "output_type": "stream",
     "text": [
      "Enter a number: 11\n",
      "11x10=110\n",
      "11x11=121\n",
      "11x12=132\n",
      "11x13=143\n",
      "11x14=154\n",
      "11x15=165\n",
      "11x16=176\n",
      "11x17=187\n",
      "11x18=198\n",
      "11x19=209\n",
      "11x20=220\n"
     ]
    }
   ],
   "source": [
    "n = int(input(\"Enter a number: \"))\n",
    "for i in range(10,20+1):\n",
    "    print(str(n)+\"x\"+ str(i)+\"=\"+ str(n*i))"
   ]
  },
  {
   "cell_type": "markdown",
   "metadata": {},
   "source": [
    "### Python Program to Check if a Number is Positive, Negative or 0"
   ]
  },
  {
   "cell_type": "code",
   "execution_count": 21,
   "metadata": {},
   "outputs": [
    {
     "name": "stdout",
     "output_type": "stream",
     "text": [
      "Enter a number: 0\n",
      "Zero\n"
     ]
    }
   ],
   "source": [
    "n = int(input(\"Enter a number: \"))\n",
    "if n>0:\n",
    "    print(\"Positive\")\n",
    "elif n<0:\n",
    "    print(\"Negative\")\n",
    "else:\n",
    "    print(\"Zero\")"
   ]
  },
  {
   "cell_type": "markdown",
   "metadata": {},
   "source": [
    "### Python Program to Print the Fibonacci sequence"
   ]
  },
  {
   "cell_type": "code",
   "execution_count": 29,
   "metadata": {},
   "outputs": [
    {
     "name": "stdout",
     "output_type": "stream",
     "text": [
      "Enter a number10\n",
      "0\n",
      "1\n",
      "1\n",
      "2\n",
      "3\n",
      "5\n",
      "8\n",
      "13\n",
      "21\n",
      "34\n"
     ]
    }
   ],
   "source": [
    "n = int(input(\"Enter a number\"))\n",
    "a=0\n",
    "print(a)\n",
    "b=1\n",
    "print(b)\n",
    "for i in range(1,n-1):\n",
    "    c = a+b\n",
    "    print(c)\n",
    "    a=b\n",
    "    b=c"
   ]
  },
  {
   "cell_type": "markdown",
   "metadata": {},
   "source": [
    "### Python Program to find HCF"
   ]
  },
  {
   "cell_type": "code",
   "execution_count": 17,
   "metadata": {},
   "outputs": [
    {
     "name": "stdout",
     "output_type": "stream",
     "text": [
      "Enter a number: 100\n",
      "Enter a number: 50\n",
      "\n"
     ]
    }
   ],
   "source": [
    "n1 = int(input(\"Enter a number: \"))\n",
    "n2 = int(input(\"Enter a number: \" ))\n",
    "if n1> n2:\n",
    "    s1 =\"\"\n",
    "    for i in range(n2,1):\n",
    "        if n1%i == o:\n",
    "            s1 = s1+ str(i)\n",
    "    print(s1)"
   ]
  },
  {
   "cell_type": "code",
   "execution_count": null,
   "metadata": {},
   "outputs": [],
   "source": [
    "  if n1%n2==0:\n",
    "    print(n2,\" is the GCD of the given numbers\")\n",
    "    elif n2%n1==0:\n",
    "    print(n1,\" is the GCD of the given numbers\")\n",
    "else:\n",
    "    s1 = \"\"\n",
    "    s2 = \"\"\n",
    "    for i in range(1,n1+1):\n",
    "        if n1 % i == 0:\n",
    "            s1 = s1+ str(i)\n",
    "    for i in range(1,n2+1):\n",
    "        if n2 % i == 0:\n",
    "            s2 = s2+ str(i)\n",
    "    sp1 = s1.split()\n",
    "    sp2 = s2.split()\n",
    "     \n"
   ]
  },
  {
   "cell_type": "code",
   "execution_count": 30,
   "metadata": {},
   "outputs": [
    {
     "name": "stdout",
     "output_type": "stream",
     "text": [
      "bhanu\n",
      "unahb\n"
     ]
    }
   ],
   "source": [
    "s = input()\n",
    "print(s[: :-1])"
   ]
  },
  {
   "cell_type": "code",
   "execution_count": 2,
   "metadata": {},
   "outputs": [
    {
     "name": "stdout",
     "output_type": "stream",
     "text": [
      "150\n",
      "100\n",
      "50\n"
     ]
    }
   ],
   "source": [
    "## hcf gcd\n",
    "a=int(input())\n",
    "b=int(input())\n",
    "if(a>b):\n",
    "    maximum=a\n",
    "else:\n",
    "    maximum=b\n",
    "for i in range(1,maximum+1):\n",
    "    if (a%i==0 and b%i==0):\n",
    "        gcd=i\n",
    "print(gcd)"
   ]
  },
  {
   "cell_type": "code",
   "execution_count": 3,
   "metadata": {},
   "outputs": [
    {
     "name": "stdout",
     "output_type": "stream",
     "text": [
      "100\n",
      "150\n",
      "300\n"
     ]
    }
   ],
   "source": [
    "## lcm\n",
    "a=int(input())\n",
    "b=int(input())\n",
    "if a>b:\n",
    "    maximum=a\n",
    "else:\n",
    "    maximum=b\n",
    "while(True):\n",
    "    if((maximum%a==0)and(maximum%b==0)):\n",
    "        lcm=maximum\n",
    "        break\n",
    "    maximum +=1\n",
    "print(lcm)"
   ]
  },
  {
   "cell_type": "code",
   "execution_count": null,
   "metadata": {},
   "outputs": [],
   "source": []
  }
 ],
 "metadata": {
  "kernelspec": {
   "display_name": "Python 3",
   "language": "python",
   "name": "python3"
  },
  "language_info": {
   "codemirror_mode": {
    "name": "ipython",
    "version": 3
   },
   "file_extension": ".py",
   "mimetype": "text/x-python",
   "name": "python",
   "nbconvert_exporter": "python",
   "pygments_lexer": "ipython3",
   "version": "3.7.3"
  }
 },
 "nbformat": 4,
 "nbformat_minor": 2
}
