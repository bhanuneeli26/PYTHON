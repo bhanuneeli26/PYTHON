{
 "cells": [
  {
   "cell_type": "markdown",
   "metadata": {},
   "source": [
    "## Definition Functions\n",
    "\n",
    "- It is denoted with keyword 'def'\n",
    "\n",
    "### There are four types of User-defined functions:\n",
    "\n",
    "- With arguments and with returns\n",
    "- Without arguments and without returns\n",
    "- With arguments and without returns\n",
    "- Without arguments and with returns\n"
   ]
  },
  {
   "cell_type": "code",
   "execution_count": 3,
   "metadata": {},
   "outputs": [
    {
     "name": "stdout",
     "output_type": "stream",
     "text": [
      "Enter the number: 5\n",
      "120\n"
     ]
    }
   ],
   "source": [
    "def fact(n):\n",
    "    if n == 1:\n",
    "        return n\n",
    "    return n * fact(n-1)\n",
    "n = int(input(\"Enter the number: \"))\n",
    "print(fact(n))"
   ]
  },
  {
   "cell_type": "markdown",
   "metadata": {},
   "source": [
    "### Prime numbers\n",
    "\n",
    "Write a program to define a number is prime or not\n"
   ]
  },
  {
   "cell_type": "code",
   "execution_count": 9,
   "metadata": {},
   "outputs": [],
   "source": [
    "def isprime(n):\n",
    "    c = 0\n",
    "    for i in range(1,n+1):\n",
    "        if n% i == 0:\n",
    "            c += 1\n",
    "    if c == 2:\n",
    "        return True\n",
    "    else:\n",
    "        return  False"
   ]
  },
  {
   "cell_type": "code",
   "execution_count": 10,
   "metadata": {},
   "outputs": [
    {
     "name": "stdout",
     "output_type": "stream",
     "text": [
      "Enter the start of the range: 1\n",
      "Enter the end of the range: 50\n",
      "2 3 5 7 11 13 17 19 23 29 31 37 41 43 47 "
     ]
    }
   ],
   "source": [
    "def primerange(start, end):\n",
    "    for i in range(start,end+1):\n",
    "        if isprime(i) == True:\n",
    "            print(i,end=\" \")\n",
    "start = int(input(\"Enter the start of the range: \"))\n",
    "end = int(input(\"Enter the end of the range: \"))\n",
    "primerange(start, end)"
   ]
  },
  {
   "cell_type": "markdown",
   "metadata": {},
   "source": [
    "## Tasks using functions\n"
   ]
  },
  {
   "cell_type": "markdown",
   "metadata": {},
   "source": [
    "### Write a program to print all number divisible by 6 and not a factor of 100 in the given range(lb,ub) inclusive"
   ]
  },
  {
   "cell_type": "code",
   "execution_count": 15,
   "metadata": {},
   "outputs": [],
   "source": [
    "def check(n):\n",
    "        if (n % 6 == 0 and 100 % n != 0):\n",
    "            return True"
   ]
  },
  {
   "cell_type": "code",
   "execution_count": 20,
   "metadata": {},
   "outputs": [
    {
     "name": "stdout",
     "output_type": "stream",
     "text": [
      "Enter start of the range: 50\n",
      "Enter end of the range: 150\n",
      "54 60 66 72 78 84 90 96 102 108 114 120 126 132 138 144 150 "
     ]
    }
   ],
   "source": [
    "s = int(input(\"Enter start of the range: \"))\n",
    "e = int(input(\"Enter end of the range: \"))\n",
    "for i in range(s,e+1):\n",
    "        if check(i) == True:\n",
    "            print(i,end=\" \")"
   ]
  },
  {
   "cell_type": "markdown",
   "metadata": {},
   "source": [
    "### Write a program to find the average of cubes of all even numbers in a given range(lb,ub) inclusive"
   ]
  },
  {
   "cell_type": "code",
   "execution_count": 21,
   "metadata": {},
   "outputs": [],
   "source": [
    "def check(n):\n",
    "    if (n % 2 == 0):\n",
    "        return True"
   ]
  },
  {
   "cell_type": "code",
   "execution_count": 23,
   "metadata": {},
   "outputs": [
    {
     "name": "stdout",
     "output_type": "stream",
     "text": [
      "Enter start of the range: 1\n",
      "Enter end of the range: 10\n",
      "Result is:  180.0\n"
     ]
    }
   ],
   "source": [
    "s = int(input(\"Enter start of the range: \"))\n",
    "e = int(input(\"Enter end of the range: \"))\n",
    "result=0\n",
    "for i in range(s,e+1):\n",
    "    if check(i)== True:\n",
    "        result = result+i**3\n",
    "print(\"Result is: \",result/(e-s+1))"
   ]
  },
  {
   "cell_type": "markdown",
   "metadata": {},
   "source": [
    "### Write a program to generate the list of factors of a given number"
   ]
  },
  {
   "cell_type": "code",
   "execution_count": 30,
   "metadata": {},
   "outputs": [
    {
     "name": "stdout",
     "output_type": "stream",
     "text": [
      "Enter a number100\n",
      "1 2 4 5 10 20 25 50 100 "
     ]
    }
   ],
   "source": [
    "def result(n):\n",
    "    for i in range(1,n+1):\n",
    "        if n%i==0:\n",
    "            print(i,end=\" \")\n",
    "n = int(input(\"Enter a number\"))\n",
    "result(n)"
   ]
  },
  {
   "cell_type": "markdown",
   "metadata": {},
   "source": [
    "### Write a program to calculate the factorial of a given number"
   ]
  },
  {
   "cell_type": "code",
   "execution_count": 33,
   "metadata": {},
   "outputs": [
    {
     "name": "stdout",
     "output_type": "stream",
     "text": [
      "Enter the number: 5\n",
      "120\n"
     ]
    }
   ],
   "source": [
    "def fact(n):\n",
    "    if n == 1:\n",
    "        return n\n",
    "    return n * fact(n-1)\n",
    "n = int(input(\"Enter the number: \"))\n",
    "print(fact(n))\n"
   ]
  },
  {
   "cell_type": "markdown",
   "metadata": {},
   "source": [
    "### Write a program to check if a given number is a prime"
   ]
  },
  {
   "cell_type": "code",
   "execution_count": 22,
   "metadata": {},
   "outputs": [
    {
     "name": "stdout",
     "output_type": "stream",
     "text": [
      "10\n",
      "9\n",
      "8\n",
      "7\n",
      "6\n",
      "5\n",
      "4\n",
      "3\n",
      "2\n"
     ]
    }
   ],
   "source": [
    "for i in range(10,1,-1):\n",
    "    print(i)"
   ]
  },
  {
   "cell_type": "code",
   "execution_count": 88,
   "metadata": {},
   "outputs": [
    {
     "data": {
      "text/plain": [
       "False"
      ]
     },
     "execution_count": 88,
     "metadata": {},
     "output_type": "execute_result"
    }
   ],
   "source": [
    "def prime(n):\n",
    "    if n==1:\n",
    "        return False\n",
    "    elif n==2:\n",
    "        return True\n",
    "    else:\n",
    "        for i in range(2,n):\n",
    "            if n % i == 0:\n",
    "                return False\n",
    "        return True\n",
    "prime(9)"
   ]
  },
  {
   "cell_type": "code",
   "execution_count": 67,
   "metadata": {},
   "outputs": [
    {
     "name": "stdout",
     "output_type": "stream",
     "text": [
      "Enter a number: 6\n",
      "It is not a prime\n"
     ]
    }
   ],
   "source": [
    "n = int(input(\"Enter a number: \"))\n",
    "if prime(n)== True:\n",
    "    print(\"It is a prime\")\n",
    "else:\n",
    "    print(\"It is not a prime\")\n",
    "    "
   ]
  },
  {
   "cell_type": "markdown",
   "metadata": {},
   "source": [
    "### Write a program to calculate the average of first N prime numbers"
   ]
  },
  {
   "cell_type": "code",
   "execution_count": 89,
   "metadata": {},
   "outputs": [
    {
     "name": "stdout",
     "output_type": "stream",
     "text": [
      "Enter a number: 10\n",
      "2\n",
      "3\n",
      "5\n",
      "7\n",
      "Average of first n prime numbers:  4.25\n"
     ]
    }
   ],
   "source": [
    "n = int(input(\"Enter a number: \"))\n",
    "r = 0\n",
    "c = 0\n",
    "for i in range(1,n+1):\n",
    "    if prime(i) == True:\n",
    "        print(i)\n",
    "        r = r+i\n",
    "        c = c+1\n",
    "print(\"Average of first n prime numbers: \",r/c)"
   ]
  },
  {
   "cell_type": "markdown",
   "metadata": {},
   "source": [
    "### Write a program to generate all perfect numbers in a given range"
   ]
  },
  {
   "cell_type": "code",
   "execution_count": 1,
   "metadata": {},
   "outputs": [
    {
     "name": "stdout",
     "output_type": "stream",
     "text": [
      "Enter start number: 1\n",
      "Enter end number: 13\n",
      "6 "
     ]
    }
   ],
   "source": [
    "def perfect(n):\n",
    "    r = 0\n",
    "    for i in range(1,n):\n",
    "        if n%i==0:\n",
    "            r = r+i\n",
    "    if r == n:\n",
    "        return True\n",
    "    \n",
    "s = int(input(\"Enter start number: \"))\n",
    "e = int(input(\"Enter end number: \"))\n",
    "for i in range(s,e+1):\n",
    "    if perfect(i)== True:\n",
    "        print(i,end=\" \")"
   ]
  },
  {
   "cell_type": "markdown",
   "metadata": {},
   "source": []
  }
 ],
 "metadata": {
  "kernelspec": {
   "display_name": "Python 3",
   "language": "python",
   "name": "python3"
  },
  "language_info": {
   "codemirror_mode": {
    "name": "ipython",
    "version": 3
   },
   "file_extension": ".py",
   "mimetype": "text/x-python",
   "name": "python",
   "nbconvert_exporter": "python",
   "pygments_lexer": "ipython3",
   "version": "3.7.3"
  }
 },
 "nbformat": 4,
 "nbformat_minor": 2
}
