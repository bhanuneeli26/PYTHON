{
 "cells": [
  {
   "cell_type": "markdown",
   "metadata": {},
   "source": [
    "# Regular Expressions"
   ]
  },
  {
   "cell_type": "markdown",
   "metadata": {},
   "source": [
    "### Character classes\n",
    "- .\tany character except newline\n",
    "- \\w\\d\\s\tword, digit, whitespace\n",
    "- \\W\\D\\S\tnot word, digit, whitespace\n",
    "- [abc]\tany of a, b, or c\n",
    "- [^abc]\tnot a, b, or c\n",
    "- [a-g]\tcharacter between a & g\n",
    "\n",
    "### Anchors\n",
    "- ^abc$\tstart / end of the string\n",
    "- \\b\\B\tword, not-word boundary\n",
    "- Escaped characters\n",
    "- \\.\\*\\\\\tescaped special characters\n",
    "- \\t\\n\\r\ttab, linefeed, carriage return"
   ]
  },
  {
   "cell_type": "markdown",
   "metadata": {},
   "source": [
    "### Groups & Lookaround\n",
    "- (abc)\tcapture group\n",
    "- \\1\tbackreference to group #1\n",
    "- (?:abc)\tnon-capturing group\n",
    "- (?=abc)\tpositive lookahead\n",
    "- (?!abc)\tnegative lookahead\n",
    "### Quantifiers & Alternation\n",
    "- a*a+a?\t0 or more, 1 or more, 0 or 1\n",
    "- a{5}a{2,}\texactly five, two or more\n",
    "- a{1,3}\tbetween one & three\n",
    "- a+?a{2,}?\tmatch as few as possible\n",
    "- ab|cd\tmatch ab or cd"
   ]
  },
  {
   "cell_type": "code",
   "execution_count": 2,
   "metadata": {},
   "outputs": [],
   "source": [
    "import re"
   ]
  },
  {
   "cell_type": "code",
   "execution_count": 3,
   "metadata": {},
   "outputs": [
    {
     "name": "stdout",
     "output_type": "stream",
     "text": [
      "<re.Match object; span=(0, 1), match='a'>\n"
     ]
    }
   ],
   "source": [
    "print(re.match('a','apple'))"
   ]
  },
  {
   "cell_type": "code",
   "execution_count": 4,
   "metadata": {},
   "outputs": [
    {
     "name": "stdout",
     "output_type": "stream",
     "text": [
      "None\n"
     ]
    }
   ],
   "source": [
    "print(re.match('a','hai'))"
   ]
  },
  {
   "cell_type": "code",
   "execution_count": 5,
   "metadata": {},
   "outputs": [
    {
     "name": "stdout",
     "output_type": "stream",
     "text": [
      "<re.Match object; span=(1, 2), match='a'>\n"
     ]
    }
   ],
   "source": [
    "print(re.search('a','hai'))"
   ]
  },
  {
   "cell_type": "code",
   "execution_count": 6,
   "metadata": {},
   "outputs": [
    {
     "name": "stdout",
     "output_type": "stream",
     "text": [
      "['a', 'a']\n"
     ]
    }
   ],
   "source": [
    "print(re.findall('a','hai hello what'))"
   ]
  },
  {
   "cell_type": "code",
   "execution_count": 8,
   "metadata": {},
   "outputs": [
    {
     "name": "stdout",
     "output_type": "stream",
     "text": [
      "['h', 'a', 'h', 'e', 'h', 'a']\n"
     ]
    }
   ],
   "source": [
    "print(re.findall('[a-h]','hai hello what'))"
   ]
  },
  {
   "cell_type": "code",
   "execution_count": 12,
   "metadata": {},
   "outputs": [
    {
     "name": "stdout",
     "output_type": "stream",
     "text": [
      "['a', 'i', 'e', 'o', 'a']\n"
     ]
    }
   ],
   "source": [
    "# FOR VOWELS\n",
    "print(re.findall('[aeiou]','hai hello what')) "
   ]
  },
  {
   "cell_type": "code",
   "execution_count": 14,
   "metadata": {},
   "outputs": [
    {
     "name": "stdout",
     "output_type": "stream",
     "text": [
      "['h', ' ', 'h', 'l', 'l', ' ', 'w', 'h', 't']\n"
     ]
    }
   ],
   "source": [
    "# FOR CONSONANTS\n",
    "print(re.findall('[^aeiou]','hai hello what'))  # '^' IS USED FOR NOT"
   ]
  },
  {
   "cell_type": "code",
   "execution_count": 15,
   "metadata": {},
   "outputs": [
    {
     "name": "stdout",
     "output_type": "stream",
     "text": [
      "<re.Match object; span=(1, 2), match='a'>\n"
     ]
    }
   ],
   "source": [
    "print(re.search('[aeiou]','hai hello what'))"
   ]
  },
  {
   "cell_type": "code",
   "execution_count": 16,
   "metadata": {},
   "outputs": [
    {
     "name": "stdout",
     "output_type": "stream",
     "text": [
      "Numbers in the given roll number:  ['1', '8', '3', '9', '5', '4', '4']\n",
      "Alphabets in the given roll number:  ['A', 'D', 'B']\n"
     ]
    }
   ],
   "source": [
    "roll ='1839A54DB4'\n",
    "print(\"Numbers in the given roll number: \",re.findall('[0-9]',roll))\n",
    "print(\"Alphabets in the given roll number: \",re.findall('[^0-9]',roll))"
   ]
  },
  {
   "cell_type": "markdown",
   "metadata": {},
   "source": [
    "### Patterns"
   ]
  },
  {
   "cell_type": "code",
   "execution_count": 21,
   "metadata": {},
   "outputs": [
    {
     "name": "stdout",
     "output_type": "stream",
     "text": [
      "a u e a e u u u \n",
      "b h n   c h c h   n n   n v v "
     ]
    }
   ],
   "source": [
    "def findpattern(pattern):\n",
    "    names = ['bhanu checha nenu nuvvu']\n",
    "    for i in names[0]:\n",
    "        if re.findall(pattern,i):\n",
    "            print(i,end=\" \")\n",
    "findpattern('[aeiou]')\n",
    "print()\n",
    "findpattern('[^aeiou]')"
   ]
  },
  {
   "cell_type": "code",
   "execution_count": 25,
   "metadata": {},
   "outputs": [
    {
     "name": "stdout",
     "output_type": "stream",
     "text": [
      "bhanu "
     ]
    }
   ],
   "source": [
    "def findpattern(pattern):\n",
    "    names = ['bhanu', 'checha', 'nenu', 'nuvvu','sai','rajesh','satishkumar']\n",
    "    for i in names:\n",
    "        if re.findall(pattern,i):\n",
    "            print(i,end=\" \")\n",
    "findpattern('b') # print words having letter \"b\""
   ]
  },
  {
   "cell_type": "code",
   "execution_count": 26,
   "metadata": {},
   "outputs": [
    {
     "name": "stdout",
     "output_type": "stream",
     "text": [
      "nenu nuvvu "
     ]
    }
   ],
   "source": [
    "findpattern('^n') # starting with letter \"n\""
   ]
  },
  {
   "cell_type": "code",
   "execution_count": 27,
   "metadata": {},
   "outputs": [
    {
     "name": "stdout",
     "output_type": "stream",
     "text": [
      "checha "
     ]
    }
   ],
   "source": [
    "findpattern('a$')"
   ]
  },
  {
   "cell_type": "code",
   "execution_count": 30,
   "metadata": {},
   "outputs": [
    {
     "name": "stdout",
     "output_type": "stream",
     "text": [
      "bhanu checha nenu nuvvu sai rajesh satishkumar "
     ]
    }
   ],
   "source": [
    "findpattern('.') # to print all the elements"
   ]
  },
  {
   "cell_type": "code",
   "execution_count": 33,
   "metadata": {},
   "outputs": [
    {
     "name": "stdout",
     "output_type": "stream",
     "text": [
      "checha rajesh satishkumar "
     ]
    }
   ],
   "source": [
    "findpattern('......') # to print the words having letters equal or more than the dots represented"
   ]
  },
  {
   "cell_type": "code",
   "execution_count": 35,
   "metadata": {},
   "outputs": [
    {
     "name": "stdout",
     "output_type": "stream",
     "text": [
      "<re.Match object; span=(0, 1), match='5'>\n"
     ]
    }
   ],
   "source": [
    "print(re.match('[0-9]','546453498')) # it is checking just it starting with the numbers in the given range"
   ]
  },
  {
   "cell_type": "code",
   "execution_count": 36,
   "metadata": {},
   "outputs": [
    {
     "name": "stdout",
     "output_type": "stream",
     "text": [
      "<re.Match object; span=(0, 9), match='546453498'>\n"
     ]
    }
   ],
   "source": [
    "print(re.match('[0-9]+','546453498')) # it is checking all the numbers in the given range"
   ]
  },
  {
   "cell_type": "code",
   "execution_count": 37,
   "metadata": {},
   "outputs": [
    {
     "name": "stdout",
     "output_type": "stream",
     "text": [
      "None\n"
     ]
    }
   ],
   "source": [
    "print(re.match('i+','hiii'))"
   ]
  },
  {
   "cell_type": "code",
   "execution_count": 38,
   "metadata": {},
   "outputs": [
    {
     "name": "stdout",
     "output_type": "stream",
     "text": [
      "<re.Match object; span=(1, 4), match='iii'>\n"
     ]
    }
   ],
   "source": [
    "print(re.search('i+','hiii')) # it checks how many times the definte number is repeated \"continuously\""
   ]
  },
  {
   "cell_type": "code",
   "execution_count": 39,
   "metadata": {},
   "outputs": [
    {
     "name": "stdout",
     "output_type": "stream",
     "text": [
      "<re.Match object; span=(0, 2), match='ii'>\n"
     ]
    }
   ],
   "source": [
    "# it checks how many times a definte number is repeated continuously in the beginning of the letter\n",
    "print(re.search('i*','iihi')) "
   ]
  },
  {
   "cell_type": "code",
   "execution_count": null,
   "metadata": {},
   "outputs": [],
   "source": []
  },
  {
   "cell_type": "markdown",
   "metadata": {},
   "source": [
    "### How to read a phone number:"
   ]
  },
  {
   "cell_type": "markdown",
   "metadata": {},
   "source": [
    "^[+][9][1][6-9][0-9]{9}$|^[6-9][0-9]{9}$|^[0][6-9][0-9]{9}$"
   ]
  },
  {
   "cell_type": "markdown",
   "metadata": {},
   "source": [
    "### 11 digit number for phone number"
   ]
  },
  {
   "cell_type": "markdown",
   "metadata": {},
   "source": [
    "^[0][6-9][0-9]{9}$"
   ]
  },
  {
   "cell_type": "markdown",
   "metadata": {},
   "source": [
    "### 10 digit number"
   ]
  },
  {
   "cell_type": "markdown",
   "metadata": {},
   "source": [
    "^[6-9][0-9]{9}$"
   ]
  },
  {
   "cell_type": "markdown",
   "metadata": {},
   "source": [
    "### 13 digit numbers"
   ]
  },
  {
   "cell_type": "markdown",
   "metadata": {},
   "source": [
    "^[+][9][1][6-9][0-9]{9}$"
   ]
  },
  {
   "cell_type": "markdown",
   "metadata": {},
   "source": [
    "### Email pattern"
   ]
  },
  {
   "cell_type": "markdown",
   "metadata": {},
   "source": [
    "^[0-9a-zA-Z][0-9a-zA-Z._-]{6,25}[@][A-Za-z]{3,8}[.][a-zA-Z]{3,5}$"
   ]
  },
  {
   "cell_type": "markdown",
   "metadata": {},
   "source": [
    "# TASKS"
   ]
  },
  {
   "cell_type": "markdown",
   "metadata": {},
   "source": [
    "### Write a function to validate a phone number in python"
   ]
  },
  {
   "cell_type": "code",
   "execution_count": 8,
   "metadata": {},
   "outputs": [
    {
     "name": "stdout",
     "output_type": "stream",
     "text": [
      "+919632147855\n",
      "+919632147855  is a valid number\n"
     ]
    }
   ],
   "source": [
    "import re\n",
    "def phone(number):\n",
    "    pattern = '^[+][9][1][6-9][0-9]{9}$|^[6-9][0-9]{9}$|^[0][6-9][0-9]{9}$'\n",
    "    if re.match(pattern,number):\n",
    "        print(number,\" is a valid number\")\n",
    "    else:\n",
    "        print(number,' is not a valid number')\n",
    "number = (input())\n",
    "phone(number)"
   ]
  },
  {
   "cell_type": "markdown",
   "metadata": {},
   "source": [
    "### Write a function to validate a email in python"
   ]
  },
  {
   "cell_type": "code",
   "execution_count": 6,
   "metadata": {},
   "outputs": [
    {
     "name": "stdout",
     "output_type": "stream",
     "text": [
      "asdfkjaslkdfhaisdfrewk\n",
      "asdfkjaslkdfhaisdfrewk  is not valid\n"
     ]
    }
   ],
   "source": [
    "import re\n",
    "def email(string):\n",
    "    pattern = '^[0-9a-zA-Z][0-9a-zA-Z._-]{6,25}[@][A-Za-z]{3,8}[.][a-zA-Z]{3,5}$'\n",
    "    if not re.match(pattern,string):\n",
    "        print(string,' is not valid')        \n",
    "string = (input())\n",
    "email(string)"
   ]
  },
  {
   "cell_type": "code",
   "execution_count": null,
   "metadata": {},
   "outputs": [],
   "source": []
  }
 ],
 "metadata": {
  "kernelspec": {
   "display_name": "Python 3",
   "language": "python",
   "name": "python3"
  },
  "language_info": {
   "codemirror_mode": {
    "name": "ipython",
    "version": 3
   },
   "file_extension": ".py",
   "mimetype": "text/x-python",
   "name": "python",
   "nbconvert_exporter": "python",
   "pygments_lexer": "ipython3",
   "version": "3.7.3"
  }
 },
 "nbformat": 4,
 "nbformat_minor": 2
}
